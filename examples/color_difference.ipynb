{
 "cells": [
  {
   "cell_type": "markdown",
   "metadata": {
    "toc": true
   },
   "source": [
    "<h1>ToC<span class=\"tocSkip\"></span></h1>\n",
    "<div class=\"toc\"><ul class=\"toc-item\"></ul></div>"
   ]
  },
  {
   "cell_type": "markdown",
   "metadata": {},
   "source": [
    "参考：  \n",
    "https://qiita.com/shinido/items/2904fa1e9a6c78650b93  \n",
    "https://ja.wikipedia.org/wiki/%E8%89%B2%E5%B7%AE  \n",
    "https://www.konicaminolta.jp/instruments/knowledge/color/section2/06.html"
   ]
  },
  {
   "cell_type": "code",
   "execution_count": 1,
   "metadata": {},
   "outputs": [],
   "source": [
    "import sys\n",
    "sys.path.append('/home/rio_kurihara/MyRepositories/Image/')\n",
    "from utils import color"
   ]
  },
  {
   "cell_type": "code",
   "execution_count": 2,
   "metadata": {},
   "outputs": [],
   "source": [
    "%matplotlib inline\n",
    "import matplotlib.pylab as plt\n",
    "import pandas as pd\n",
    "\n",
    "def plot_two_color(color1_hex, color2_hex, title='two_color_sample'):\n",
    "    df = pd.DataFrame([1, 1])\n",
    "\n",
    "    df.plot(kind='bar', figsize=(4, 1.5),\n",
    "                 color=[[color1_hex, color2_hex]], width=0.85, legend=False)\n",
    "\n",
    "    # グラフの枠をすべて描画しない\n",
    "    plt.gca().spines['right'].set_visible(False)\n",
    "    plt.gca().spines['top'].set_visible(False)\n",
    "    plt.gca().spines['left'].set_visible(False)\n",
    "    plt.gca().spines['bottom'].set_visible(False)\n",
    "\n",
    "    plt.tick_params(labelbottom=False, labelleft=False, labelright=False, labeltop=False)\n",
    "    plt.title(title)\n",
    "    plt.tick_params(labelbottom=\"off\", bottom=\"off\") # x軸の削除\n",
    "    plt.tick_params(labelleft=\"off\", left=\"off\") # y軸の削除"
   ]
  },
  {
   "cell_type": "code",
   "execution_count": 3,
   "metadata": {},
   "outputs": [],
   "source": [
    "list_colors = [\n",
    "    [(255, 0  , 0), (0  ,255 , 0)],\n",
    "    [(255, 0  , 0), (0  , 0  , 255)],\n",
    "    [(255, 0  , 0), (255, 255, 0)],\n",
    "    [(255, 0  , 0), (255, 0  , 255)],\n",
    "    [(255, 0  , 0), (255, 128, 0)],\n",
    "    [(255, 0  , 0), (255, 0  , 128)],\n",
    "    [(255, 255, 0), (255, 0  , 255)],\n",
    "    [(255, 255, 0), (0  , 255, 255)]    \n",
    "]"
   ]
  },
  {
   "cell_type": "code",
   "execution_count": 4,
   "metadata": {
    "scrolled": true
   },
   "outputs": [
    {
     "name": "stderr",
     "output_type": "stream",
     "text": [
      "/home/rio_kurihara/.pyenv/versions/anaconda3-5.1.0/lib/python3.6/site-packages/matplotlib/cbook/deprecation.py:107: MatplotlibDeprecationWarning: Passing one of 'on', 'true', 'off', 'false' as a boolean is deprecated; use an actual boolean (True/False) instead.\n",
      "  warnings.warn(message, mplDeprecation, stacklevel=1)\n"
     ]
    },
    {
     "data": {
      "image/png": "[encoded data removed]",
      "text/plain": [
       "<Figure size 288x108 with 1 Axes>"
      ]
     },
     "metadata": {},
     "output_type": "display_data"
    },
    {
     "data": {
      "image/png": "[encoded data removed]",
      "text/plain": [
       "<Figure size 288x108 with 1 Axes>"
      ]
     },
     "metadata": {},
     "output_type": "display_data"
    },
    {
     "data": {
      "image/png": "[encoded data removed]",
      "text/plain": [
       "<Figure size 288x108 with 1 Axes>"
      ]
     },
     "metadata": {},
     "output_type": "display_data"
    },
    {
     "data": {
      "image/png": "[encoded data removed]",
      "text/plain": [
       "<Figure size 288x108 with 1 Axes>"
      ]
     },
     "metadata": {},
     "output_type": "display_data"
    },
    {
     "data": {
      "image/png": "[encoded data removed]",
      "text/plain": [
       "<Figure size 288x108 with 1 Axes>"
      ]
     },
     "metadata": {},
     "output_type": "display_data"
    },
    {
     "data": {
      "image/png": "[encoded data removed]",
      "text/plain": [
       "<Figure size 288x108 with 1 Axes>"
      ]
     },
     "metadata": {},
     "output_type": "display_data"
    },
    {
     "data": {
      "image/png": "[encoded data removed]",
      "text/plain": [
       "<Figure size 288x108 with 1 Axes>"
      ]
     },
     "metadata": {},
     "output_type": "display_data"
    },
    {
     "data": {
      "image/png": "[encoded data removed]",
      "text/plain": [
       "<Figure size 288x108 with 1 Axes>"
      ]
     },
     "metadata": {},
     "output_type": "display_data"
    }
   ],
   "source": [
    "for _color in list_colors:\n",
    "    color1_rgb = _color[0]\n",
    "    color2_rgb = _color[1]\n",
    "    color1_hex = color.rgb2hex(color1_rgb)\n",
    "    color2_hex = color.rgb2hex(color2_rgb)\n",
    "\n",
    "    dest = round(color.calc_dist_rgb_euclid(color1_rgb, color2_rgb))\n",
    "    \n",
    "    plot_two_color(color1_hex, color2_hex, 'dest:'+str(dest))"
   ]
  },
  {
   "cell_type": "markdown",
   "metadata": {},
   "source": [
    "確認用：https://syncer.jp/color-converter"
   ]
  },
  {
   "cell_type": "code",
   "execution_count": 68,
   "metadata": {},
   "outputs": [],
   "source": [
    "list_colors = [\n",
    "    ['#FF0000', '#400000'],\n",
    "    ['#FF0000', '#FFBF00']\n",
    "]\n",
    "\n",
    "list_colors = [\n",
    "    ['#f06e50', '#f0a01e'],\n",
    "    ['#96fa1e', '#64fa50']\n",
    "]"
   ]
  },
  {
   "cell_type": "code",
   "execution_count": 69,
   "metadata": {},
   "outputs": [
    {
     "name": "stdout",
     "output_type": "stream",
     "text": [
      "1.0倍\n"
     ]
    },
    {
     "name": "stderr",
     "output_type": "stream",
     "text": [
      "/home/rio_kurihara/.pyenv/versions/anaconda3-5.1.0/lib/python3.6/site-packages/matplotlib/cbook/deprecation.py:107: MatplotlibDeprecationWarning: Passing one of 'on', 'true', 'off', 'false' as a boolean is deprecated; use an actual boolean (True/False) instead.\n",
      "  warnings.warn(message, mplDeprecation, stacklevel=1)\n"
     ]
    },
    {
     "data": {
      "image/png": "[encoded data removed]",
      "text/plain": [
       "<Figure size 288x108 with 1 Axes>"
      ]
     },
     "metadata": {},
     "output_type": "display_data"
    },
    {
     "data": {
      "image/png": "[encoded data removed]",
      "text/plain": [
       "<Figure size 288x108 with 1 Axes>"
      ]
     },
     "metadata": {},
     "output_type": "display_data"
    }
   ],
   "source": [
    "# RGB\n",
    "list_dest = []\n",
    "for _color in list_colors:\n",
    "    color1_hex = _color[0]\n",
    "    color2_hex = _color[1]\n",
    "    color1_rgb = color.hex2rgb(color1_hex)\n",
    "    color2_rgb = color.hex2rgb(color2_hex)\n",
    "\n",
    "    dest = round(color.calc_dist_rgb_euclid(color1_rgb, color2_rgb))    \n",
    "    list_dest.append(dest)\n",
    "    plot_two_color(color1_hex, color2_hex, 'dest:'+str(dest))\n",
    "diff = round(list_dest[1] / list_dest[0], 2)\n",
    "print('{}倍'.format(diff))"
   ]
  },
  {
   "cell_type": "markdown",
   "metadata": {},
   "source": [
    "参考：http://d.hatena.ne.jp/pashango_p/20110519/1305758419"
   ]
  },
  {
   "cell_type": "code",
   "execution_count": 70,
   "metadata": {},
   "outputs": [],
   "source": [
    "RGB2XYZ_D65 = (\n",
    "    0.412453, 0.357580, 0.180423,\n",
    "    0.212671, 0.715160, 0.072169,\n",
    "    0.019334, 0.119193, 0.950227\n",
    ")\n",
    "\n",
    "D65 = ( 0.950456, 1., 1.088754 );\n",
    "\n",
    "_coff = (\n",
    "     RGB2XYZ_D65[0] * (1.0 / D65[0]), RGB2XYZ_D65[1] * (1.0 / D65[0]), RGB2XYZ_D65[2] * (1.0 / D65[0]),\n",
    "     RGB2XYZ_D65[3] * (1.0 / D65[1]), RGB2XYZ_D65[4] * (1.0 / D65[1]), RGB2XYZ_D65[5] * (1.0 / D65[1]),\n",
    "     RGB2XYZ_D65[6] * (1.0 / D65[2]), RGB2XYZ_D65[7] * (1.0 / D65[2]), RGB2XYZ_D65[8] * (1.0 / D65[2]),\n",
    ")\n",
    "\n",
    "def _conv_func(v):\n",
    "    if v > 0.008856:\n",
    "        return v ** (1.0 / 3.0)\n",
    "    else:\n",
    "        return (903.3 * v + 16 ) / 116.0\n",
    "\n",
    "def rgb2xyz(rgb):\n",
    "    rgb = [x/255.0 for x in rgb]\n",
    "    xyz = (\n",
    "        rgb[0]*_coff[0] + rgb[1]*_coff[1] + rgb[2]*_coff[2],\n",
    "        rgb[0]*_coff[3] + rgb[1]*_coff[4] + rgb[2]*_coff[5],\n",
    "        rgb[0]*_coff[6] + rgb[1]*_coff[7] + rgb[2]*_coff[8],\n",
    "    )\n",
    "    return xyz\n",
    "\n",
    "def rgb2lab(rgb):\n",
    "    xyz = rgb2xyz(rgb)\n",
    "\n",
    "    fX, fY, fZ = map(_conv_func, xyz) \n",
    "    L = 116.*fY - 16.;\n",
    "    a = 500.*(fX - fY);\n",
    "    b = 200.*(fY - fZ);\n",
    "    \n",
    "    return (L, a, b)"
   ]
  },
  {
   "cell_type": "code",
   "execution_count": 71,
   "metadata": {},
   "outputs": [
    {
     "name": "stdout",
     "output_type": "stream",
     "text": [
      "0.9倍\n"
     ]
    },
    {
     "name": "stderr",
     "output_type": "stream",
     "text": [
      "/home/rio_kurihara/.pyenv/versions/anaconda3-5.1.0/lib/python3.6/site-packages/matplotlib/cbook/deprecation.py:107: MatplotlibDeprecationWarning: Passing one of 'on', 'true', 'off', 'false' as a boolean is deprecated; use an actual boolean (True/False) instead.\n",
      "  warnings.warn(message, mplDeprecation, stacklevel=1)\n"
     ]
    },
    {
     "data": {
      "image/png": "[encoded data removed]",
      "text/plain": [
       "<Figure size 288x108 with 1 Axes>"
      ]
     },
     "metadata": {},
     "output_type": "display_data"
    },
    {
     "data": {
      "image/png": "[encoded data removed]",
      "text/plain": [
       "<Figure size 288x108 with 1 Axes>"
      ]
     },
     "metadata": {},
     "output_type": "display_data"
    }
   ],
   "source": [
    "# XYZ\n",
    "list_dest = []\n",
    "for _color in list_colors:\n",
    "    color1_hex = _color[0]\n",
    "    color2_hex = _color[1]\n",
    "    color1_rgb = color.hex2rgb(color1_hex)\n",
    "    color2_rgb = color.hex2rgb(color2_hex)\n",
    "\n",
    "    # rgb -> xyz\n",
    "    color1_xyz = rgb2xyz(color1_rgb)\n",
    "    color2_xyz = rgb2xyz(color2_rgb)\n",
    "    color1_xyz = (\n",
    "        int(round(color1_xyz[0] * 100)),\n",
    "        int(round(color1_xyz[1] * 100)),\n",
    "        int(round(color1_xyz[2] * 100))        \n",
    "    )\n",
    "    color2_xyz = (\n",
    "        int(round(color2_xyz[0] * 100)),\n",
    "        int(round(color2_xyz[1] * 100)),\n",
    "        int(round(color2_xyz[2] * 100))        \n",
    "    )\n",
    "\n",
    "    dest = round(color.calc_dist_rgb_euclid(color1_xyz, color2_xyz))    \n",
    "    list_dest.append(dest)\n",
    "    plot_two_color(color1_hex, color2_hex, 'dest:'+str(dest))\n",
    "diff = round(list_dest[1] / list_dest[0], 2)\n",
    "print('{}倍'.format(diff))"
   ]
  },
  {
   "cell_type": "code",
   "execution_count": 72,
   "metadata": {},
   "outputs": [
    {
     "name": "stdout",
     "output_type": "stream",
     "text": [
      "0.65倍\n"
     ]
    },
    {
     "name": "stderr",
     "output_type": "stream",
     "text": [
      "/home/rio_kurihara/.pyenv/versions/anaconda3-5.1.0/lib/python3.6/site-packages/matplotlib/cbook/deprecation.py:107: MatplotlibDeprecationWarning: Passing one of 'on', 'true', 'off', 'false' as a boolean is deprecated; use an actual boolean (True/False) instead.\n",
      "  warnings.warn(message, mplDeprecation, stacklevel=1)\n"
     ]
    },
    {
     "data": {
      "image/png": "[encoded data removed]",
      "text/plain": [
       "<Figure size 288x108 with 1 Axes>"
      ]
     },
     "metadata": {},
     "output_type": "display_data"
    },
    {
     "data": {
      "image/png": "[encoded data removed]",
      "text/plain": [
       "<Figure size 288x108 with 1 Axes>"
      ]
     },
     "metadata": {},
     "output_type": "display_data"
    }
   ],
   "source": [
    "# Lab\n",
    "list_dest = []\n",
    "for _color in list_colors:\n",
    "    color1_hex = _color[0]\n",
    "    color2_hex = _color[1]\n",
    "    color1_rgb = color.hex2rgb(color1_hex)\n",
    "    color2_rgb = color.hex2rgb(color2_hex)\n",
    "\n",
    "    # rgb -> Lab\n",
    "    color1_lab = rgb2lab(color1_rgb)\n",
    "    color2_lab = rgb2lab(color2_rgb)\n",
    "    color1_lab = (\n",
    "        int(round(color1_lab[0])),\n",
    "        int(round(color1_lab[1])),\n",
    "        int(round(color1_lab[2]))        \n",
    "    )\n",
    "    color2_lab = (\n",
    "        int(round(color2_lab[0])),\n",
    "        int(round(color2_lab[1])),\n",
    "        int(round(color2_lab[2]))        \n",
    "    )\n",
    "\n",
    "    dest = round(color.calc_dist_rgb_euclid(color1_lab, color2_lab))    \n",
    "    list_dest.append(dest)\n",
    "    plot_two_color(color1_hex, color2_hex, 'dest:'+str(dest))\n",
    "diff = round(list_dest[1] / list_dest[0], 2)\n",
    "print('{}倍'.format(diff))"
   ]
  },
  {
   "cell_type": "markdown",
   "metadata": {},
   "source": [
    "参考：https://python-colormath.readthedocs.io/en/latest/delta_e.html"
   ]
  },
  {
   "cell_type": "code",
   "execution_count": 96,
   "metadata": {},
   "outputs": [],
   "source": [
    "list_colors = [\n",
    "    [(35 , 34 , 39) , (33 , 33 , 35) , 'NG'],\n",
    "    [(147, 130, 120), (149, 132, 119), 'NG'],\n",
    "    [(125, 174, 178), (130, 175, 175), 'NG'],\n",
    "    [(88 , 70 , 56 ), (88 , 71 , 58) , 'NG'],\n",
    "    [(248, 221, 238), (246, 217, 228), 'OK'],\n",
    "    [(81 , 150, 207), (85 , 147, 200), 'OK'],\n",
    "    [(232, 228, 227), (230, 229, 226), 'OK'],\n",
    "    [(237, 2  , 185), (226, 56 , 158), 'OK']\n",
    "]\n"
   ]
  },
  {
   "cell_type": "code",
   "execution_count": 97,
   "metadata": {},
   "outputs": [
    {
     "name": "stderr",
     "output_type": "stream",
     "text": [
      "/home/rio_kurihara/.pyenv/versions/anaconda3-5.1.0/lib/python3.6/site-packages/matplotlib/cbook/deprecation.py:107: MatplotlibDeprecationWarning: Passing one of 'on', 'true', 'off', 'false' as a boolean is deprecated; use an actual boolean (True/False) instead.\n",
      "  warnings.warn(message, mplDeprecation, stacklevel=1)\n"
     ]
    },
    {
     "data": {
      "image/png": "[encoded data removed]",
      "text/plain": [
       "<Figure size 288x108 with 1 Axes>"
      ]
     },
     "metadata": {},
     "output_type": "display_data"
    },
    {
     "data": {
      "image/png": "[encoded data removed]",
      "text/plain": [
       "<Figure size 288x108 with 1 Axes>"
      ]
     },
     "metadata": {},
     "output_type": "display_data"
    },
    {
     "data": {
      "image/png": "[encoded data removed]",
      "text/plain": [
       "<Figure size 288x108 with 1 Axes>"
      ]
     },
     "metadata": {},
     "output_type": "display_data"
    },
    {
     "data": {
      "image/png": "[encoded data removed]",
      "text/plain": [
       "<Figure size 288x108 with 1 Axes>"
      ]
     },
     "metadata": {},
     "output_type": "display_data"
    },
    {
     "data": {
      "image/png": "[encoded data removed]",
      "text/plain": [
       "<Figure size 288x108 with 1 Axes>"
      ]
     },
     "metadata": {},
     "output_type": "display_data"
    },
    {
     "data": {
      "image/png": "[encoded data removed]",
      "text/plain": [
       "<Figure size 288x108 with 1 Axes>"
      ]
     },
     "metadata": {},
     "output_type": "display_data"
    },
    {
     "data": {
      "image/png": "[encoded data removed]",
      "text/plain": [
       "<Figure size 288x108 with 1 Axes>"
      ]
     },
     "metadata": {},
     "output_type": "display_data"
    },
    {
     "data": {
      "image/png": "[encoded data removed]",
      "text/plain": [
       "<Figure size 288x108 with 1 Axes>"
      ]
     },
     "metadata": {},
     "output_type": "display_data"
    }
   ],
   "source": [
    "# RGB\n",
    "list_dest = []\n",
    "\n",
    "for _color in list_colors:\n",
    "    color1_rgb = _color[0]\n",
    "    color2_rgb = _color[1]\n",
    "    color1_hex = color.rgb2hex(color1_rgb)\n",
    "    color2_hex = color.rgb2hex(color2_rgb)\n",
    "    dest = round(color.calc_dist_rgb_euclid(color1_rgb, color2_rgb), 2)\n",
    "    plot_two_color(color1_hex, color2_hex, 'dest:'+str(dest)+'_'+_color[2])"
   ]
  },
  {
   "cell_type": "code",
   "execution_count": 98,
   "metadata": {},
   "outputs": [
    {
     "name": "stderr",
     "output_type": "stream",
     "text": [
      "/home/rio_kurihara/.pyenv/versions/anaconda3-5.1.0/lib/python3.6/site-packages/matplotlib/cbook/deprecation.py:107: MatplotlibDeprecationWarning: Passing one of 'on', 'true', 'off', 'false' as a boolean is deprecated; use an actual boolean (True/False) instead.\n",
      "  warnings.warn(message, mplDeprecation, stacklevel=1)\n"
     ]
    },
    {
     "data": {
      "image/png": "[encoded data removed]",
      "text/plain": [
       "<Figure size 288x108 with 1 Axes>"
      ]
     },
     "metadata": {},
     "output_type": "display_data"
    },
    {
     "data": {
      "image/png": "[encoded data removed]",
      "text/plain": [
       "<Figure size 288x108 with 1 Axes>"
      ]
     },
     "metadata": {},
     "output_type": "display_data"
    },
    {
     "data": {
      "image/png": "[encoded data removed]",
      "text/plain": [
       "<Figure size 288x108 with 1 Axes>"
      ]
     },
     "metadata": {},
     "output_type": "display_data"
    },
    {
     "data": {
      "image/png": "[encoded data removed]",
      "text/plain": [
       "<Figure size 288x108 with 1 Axes>"
      ]
     },
     "metadata": {},
     "output_type": "display_data"
    },
    {
     "data": {
      "image/png": "[encoded data removed]",
      "text/plain": [
       "<Figure size 288x108 with 1 Axes>"
      ]
     },
     "metadata": {},
     "output_type": "display_data"
    },
    {
     "data": {
      "image/png": "[encoded data removed]",
      "text/plain": [
       "<Figure size 288x108 with 1 Axes>"
      ]
     },
     "metadata": {},
     "output_type": "display_data"
    },
    {
     "data": {
      "image/png": "[encoded data removed]",
      "text/plain": [
       "<Figure size 288x108 with 1 Axes>"
      ]
     },
     "metadata": {},
     "output_type": "display_data"
    },
    {
     "data": {
      "image/png": "[encoded data removed]",
      "text/plain": [
       "<Figure size 288x108 with 1 Axes>"
      ]
     },
     "metadata": {},
     "output_type": "display_data"
    }
   ],
   "source": [
    "# Lab\n",
    "list_dest = []\n",
    "for _color in list_colors:\n",
    "    color1_rgb = _color[0]\n",
    "    color2_rgb = _color[1]\n",
    "    color1_hex = color.rgb2hex(color1_rgb)\n",
    "    color2_hex = color.rgb2hex(color2_rgb)\n",
    "\n",
    "    # rgb -> Lab\n",
    "    color1_lab = rgb2lab(color1_rgb)\n",
    "    color2_lab = rgb2lab(color2_rgb)\n",
    "    color1_lab = (\n",
    "        int(round(color1_lab[0])),\n",
    "        int(round(color1_lab[1])),\n",
    "        int(round(color1_lab[2]))        \n",
    "    )\n",
    "    color2_lab = (\n",
    "        int(round(color2_lab[0])),\n",
    "        int(round(color2_lab[1])),\n",
    "        int(round(color2_lab[2]))        \n",
    "    )\n",
    "\n",
    "    dest = round(color.calc_dist_rgb_euclid(color1_lab, color2_lab), 2)    \n",
    "    list_dest.append(dest)\n",
    "    plot_two_color(color1_hex, color2_hex, 'dest:'+str(dest)+'_'+_color[2])"
   ]
  },
  {
   "cell_type": "code",
   "execution_count": 99,
   "metadata": {},
   "outputs": [
    {
     "name": "stderr",
     "output_type": "stream",
     "text": [
      "/home/rio_kurihara/.pyenv/versions/anaconda3-5.1.0/lib/python3.6/site-packages/matplotlib/cbook/deprecation.py:107: MatplotlibDeprecationWarning: Passing one of 'on', 'true', 'off', 'false' as a boolean is deprecated; use an actual boolean (True/False) instead.\n",
      "  warnings.warn(message, mplDeprecation, stacklevel=1)\n"
     ]
    },
    {
     "data": {
      "image/png": "[encoded data removed]",
      "text/plain": [
       "<Figure size 288x108 with 1 Axes>"
      ]
     },
     "metadata": {},
     "output_type": "display_data"
    },
    {
     "data": {
      "image/png": "[encoded data removed]",
      "text/plain": [
       "<Figure size 288x108 with 1 Axes>"
      ]
     },
     "metadata": {},
     "output_type": "display_data"
    },
    {
     "data": {
      "image/png": "[encoded data removed]",
      "text/plain": [
       "<Figure size 288x108 with 1 Axes>"
      ]
     },
     "metadata": {},
     "output_type": "display_data"
    },
    {
     "data": {
      "image/png": "[encoded data removed]",
      "text/plain": [
       "<Figure size 288x108 with 1 Axes>"
      ]
     },
     "metadata": {},
     "output_type": "display_data"
    },
    {
     "data": {
      "image/png": "[encoded data removed]",
      "text/plain": [
       "<Figure size 288x108 with 1 Axes>"
      ]
     },
     "metadata": {},
     "output_type": "display_data"
    },
    {
     "data": {
      "image/png": "[encoded data removed]",
      "text/plain": [
       "<Figure size 288x108 with 1 Axes>"
      ]
     },
     "metadata": {},
     "output_type": "display_data"
    },
    {
     "data": {
      "image/png": "[encoded data removed]",
      "text/plain": [
       "<Figure size 288x108 with 1 Axes>"
      ]
     },
     "metadata": {},
     "output_type": "display_data"
    },
    {
     "data": {
      "image/png": "[encoded data removed]",
      "text/plain": [
       "<Figure size 288x108 with 1 Axes>"
      ]
     },
     "metadata": {},
     "output_type": "display_data"
    }
   ],
   "source": [
    "# CIEDE2000\n",
    "from colormath.color_objects import LabColor\n",
    "from colormath.color_diff import delta_e_cie1976, delta_e_cie2000\n",
    "\n",
    "# Lab\n",
    "list_dest = []\n",
    "\n",
    "for _color in list_colors:\n",
    "    color1_rgb = _color[0]\n",
    "    color2_rgb = _color[1]\n",
    "    color1_hex = color.rgb2hex(color1_rgb)\n",
    "    color2_hex = color.rgb2hex(color2_rgb)\n",
    "\n",
    "    # rgb -> Lab\n",
    "    color1_lab = rgb2lab(color1_rgb)\n",
    "    color2_lab = rgb2lab(color2_rgb)\n",
    "    color1_lab = (\n",
    "        int(round(color1_lab[0])),\n",
    "        int(round(color1_lab[1])),\n",
    "        int(round(color1_lab[2]))        \n",
    "    )\n",
    "    color2_lab = (\n",
    "        int(round(color2_lab[0])),\n",
    "        int(round(color2_lab[1])),\n",
    "        int(round(color2_lab[2]))        \n",
    "    )\n",
    "\n",
    "    # Reference color.\n",
    "    color1 = LabColor(lab_l=color1_lab[0], lab_a=color1_lab[1], lab_b=color1_lab[2])\n",
    "    # Color to be compared to the reference.\n",
    "    color2 = LabColor(lab_l=color2_lab[0], lab_a=color2_lab[1], lab_b=color2_lab[2])\n",
    "    # This is your delta E value as a float.\n",
    "    delta_e = delta_e_cie2000(color1, color2)\n",
    "    list_dest.append(delta_e)\n",
    "    plot_two_color(color1_hex, color2_hex, 'dest:'+str(delta_e)+'_'+_color[2])\n",
    "# diff = round(list_dest[1] / list_dest[0], 2)\n",
    "# print('{}倍'.format(diff))"
   ]
  },
  {
   "cell_type": "code",
   "execution_count": null,
   "metadata": {},
   "outputs": [],
   "source": []
  }
 ],
 "metadata": {
  "kernelspec": {
   "display_name": "Python 3",
   "language": "python",
   "name": "python3"
  },
  "language_info": {
   "codemirror_mode": {
    "name": "ipython",
    "version": 3
   },
   "file_extension": ".py",
   "mimetype": "text/x-python",
   "name": "python",
   "nbconvert_exporter": "python",
   "pygments_lexer": "ipython3",
   "version": "3.6.4"
  },
  "toc": {
   "base_numbering": 1,
   "nav_menu": {},
   "number_sections": true,
   "sideBar": false,
   "skip_h1_title": false,
   "title_cell": "ToC",
   "title_sidebar": "Contents",
   "toc_cell": true,
   "toc_position": {},
   "toc_section_display": true,
   "toc_window_display": false
  }
 },
 "nbformat": 4,
 "nbformat_minor": 2
}
