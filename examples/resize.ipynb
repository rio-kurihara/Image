{
 "cells": [
  {
   "cell_type": "code",
   "execution_count": 1,
   "metadata": {},
   "outputs": [],
   "source": [
    "import cv2"
   ]
  },
  {
   "cell_type": "code",
   "execution_count": 2,
   "metadata": {},
   "outputs": [],
   "source": [
    "path = '../sample_data/lena.jpg'\n",
    "save_path = './resized.png'\n",
    "resize_shape = (200, 200)"
   ]
  },
  {
   "cell_type": "code",
   "execution_count": 3,
   "metadata": {},
   "outputs": [
    {
     "name": "stdout",
     "output_type": "stream",
     "text": [
      "300 400\n",
      "50 , 50 , 0 , 0\n"
     ]
    },
    {
     "data": {
      "text/plain": [
       "True"
      ]
     },
     "execution_count": 3,
     "metadata": {},
     "output_type": "execute_result"
    }
   ],
   "source": [
    "img_src = cv2.imread(path, cv2.IMREAD_COLOR)\n",
    "height, width = img_src.shape[:2]\n",
    "print(height, width)\n",
    "\n",
    "if height > width:\n",
    "    top    = 0\n",
    "    bottom = 0\n",
    "    left   = (height - width) // 2\n",
    "    right  =  height - width - left\n",
    "else:\n",
    "    left   = 0\n",
    "    right  = 0\n",
    "    top    = (width - height) // 2\n",
    "    bottom = width - height - top\n",
    "\n",
    "print(top, ',', bottom, ',', left, ',', right)\n",
    "\n",
    "# borderType = cv2.BORDER_REPLICATE\n",
    "borderType = cv2.BORDER_CONSTANT\n",
    "value = (255,255,255)\n",
    "img_border = cv2.copyMakeBorder(img_src, top, bottom, left, right, borderType)\n",
    "# img_border = cv2.copyMakeBorder(img_src, top, bottom, left, right, borderType, value=value)\n",
    "height2, width2 = img_border.shape[:2]\n",
    "\n",
    "interpolation = cv2.INTER_LINEAR\n",
    "# interpolation = cv2.INTER_AREA\n",
    "img_dst = cv2.resize(img_border, resize_shape, interpolation=interpolation)\n",
    "cv2.imwrite(save_path, img_dst)"
   ]
  }
 ],
 "metadata": {
  "kernelspec": {
   "display_name": "Python 3",
   "language": "python",
   "name": "python3"
  },
  "language_info": {
   "codemirror_mode": {
    "name": "ipython",
    "version": 3
   },
   "file_extension": ".py",
   "mimetype": "text/x-python",
   "name": "python",
   "nbconvert_exporter": "python",
   "pygments_lexer": "ipython3",
   "version": "3.6.4"
  }
 },
 "nbformat": 4,
 "nbformat_minor": 2
}
