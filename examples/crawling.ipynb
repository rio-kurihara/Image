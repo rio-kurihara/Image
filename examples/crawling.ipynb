{
 "cells": [
  {
   "cell_type": "code",
   "execution_count": null,
   "metadata": {},
   "outputs": [],
   "source": [
    "import os\n",
    "from urllib import request as req\n",
    "from urllib import error\n",
    "from urllib import parse\n",
    "import bs4\n",
    "\n",
    "keyword ='猫'\n",
    "dir_save = './{}'.format(keyword)\n",
    "if not os.path.exists(dir_save):\n",
    "    os.mkdir(dir_save)\n",
    "max_image_cnt = 10 # 何枚クロールしてくるか"
   ]
  },
  {
   "cell_type": "code",
   "execution_count": null,
   "metadata": {},
   "outputs": [],
   "source": [
    "urlKeyword = parse.quote(keyword)\n",
    "url = 'https://www.google.com/search?hl=jp&q=' + urlKeyword + '&btnG=Google+Search&tbs=0&safe=off&tbm=isch'\n",
    "\n",
    "headers = {\"User-Agent\": \"Mozilla/5.0 (X11; Ubuntu; Linux x86_64; rv:47.0) Gecko/20100101 Firefox/47.0\",}\n",
    "request = req.Request(url=url, headers=headers)\n",
    "page = req.urlopen(request)\n",
    "\n",
    "html = page.read().decode('utf-8')\n",
    "html = bs4.BeautifulSoup(html, \"html.parser\")\n",
    "elems = html.select('.rg_meta.notranslate')\n",
    "counter = 0\n",
    "for ele in elems:\n",
    "    ele = ele.contents[0].replace('\"','').split(',')\n",
    "    eledict = dict()\n",
    "    for e in ele:\n",
    "        num = e.find(':')\n",
    "        eledict[e[0:num]] = e[num+1:]\n",
    "    imageURL = eledict['ou']\n",
    "\n",
    "    pal = '.jpg'\n",
    "    if '.jpg' in imageURL:\n",
    "        pal = '.jpg'\n",
    "    elif '.JPG' in imageURL:\n",
    "        pal = '.jpg'\n",
    "    elif '.png' in imageURL:\n",
    "        pal = '.png'\n",
    "    elif '.gif' in imageURL:\n",
    "        pal = '.gif'\n",
    "    elif '.jpeg' in imageURL:\n",
    "        pal = '.jpeg'\n",
    "    else:\n",
    "        pal = '.jpg'\n",
    "\n",
    "    try:\n",
    "        img = req.urlopen(imageURL)\n",
    "        save_path = os.path.join(dir_save, 'image_'+str(counter)+pal)\n",
    "        localfile = open(save_path, 'wb')\n",
    "        localfile.write(img.read())\n",
    "        img.close()\n",
    "        localfile.close()\n",
    "        counter += 1\n",
    "    except UnicodeEncodeError:\n",
    "        continue\n",
    "    except error.HTTPError:\n",
    "        continue\n",
    "    except error.URLError:\n",
    "        continue\n",
    "    if max_image_cnt < counter:\n",
    "        break"
   ]
  }
 ],
 "metadata": {
  "kernelspec": {
   "display_name": "Python 3",
   "language": "python",
   "name": "python3"
  },
  "language_info": {
   "codemirror_mode": {
    "name": "ipython",
    "version": 3
   },
   "file_extension": ".py",
   "mimetype": "text/x-python",
   "name": "python",
   "nbconvert_exporter": "python",
   "pygments_lexer": "ipython3",
   "version": "3.6.4"
  }
 },
 "nbformat": 4,
 "nbformat_minor": 2
}
